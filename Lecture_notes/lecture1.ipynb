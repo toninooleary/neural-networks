{
 "metadata": {
  "language_info": {
   "codemirror_mode": {
    "name": "ipython",
    "version": 3
   },
   "file_extension": ".py",
   "mimetype": "text/x-python",
   "name": "python",
   "nbconvert_exporter": "python",
   "pygments_lexer": "ipython3",
   "version": 3
  },
  "orig_nbformat": 2
 },
 "nbformat": 4,
 "nbformat_minor": 2,
 "cells": [
  {
   "source": [
    "\n",
    "# Lecture 1 - Introduction\n",
    "\n",
    "## what is deeplearning?\n",
    "- finding patterns in data\n",
    "- finding the correct representations data should be in to perform the task given\n",
    "- examples: learning to predict the category(label) of an image\n",
    "\n",
    "## Machine Learning:\n",
    "- A study of computer programmes that improve their performance at some **task** with **experience** (data)\n",
    "\n",
    "## Linear Regression\n",
    "An example: Weather prediction (supervised learning) \n",
    "- Task: Predict air temperature (real number)\n",
    "- Experience: Historic data of air temperature (train data)\n",
    "- performance measure: Deviation of the forecast (test data)\n",
    "\n",
    "Given training data $\\left\\{(X_i, Y_i)\\right\\}^n_{i=1}$      $X_i \\epsilon \\mathbb{R}_d, y_i, \\epsilon \\mathbb{R}$\n",
    "\n",
    "Find a model $\\hat{y} = f(x)$\n",
    "\n",
    "Such that $f(x) \\approx y$ on test data\n",
    "\n",
    "- The idea of machine learning is to perform estimate function $f$\n",
    "    - In other words, the aim is to estimate $y$ using $x$\n",
    "    - $\\hat{y} = f(x)$\n",
    "    \n",
    "<img src=\"./images/function_estimation.png\">\n",
    "\n"
   ],
   "cell_type": "markdown",
   "metadata": {}
  },
  {
   "cell_type": "code",
   "execution_count": null,
   "metadata": {},
   "outputs": [],
   "source": []
  }
 ]
}